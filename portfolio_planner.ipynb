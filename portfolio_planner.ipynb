{
 "cells": [
  {
   "cell_type": "code",
   "execution_count": 1,
   "metadata": {},
   "outputs": [],
   "source": [
    "# Import libraries and dependencies\n",
    "import numpy as np\n",
    "import pandas as pd\n",
    "import os\n",
    "from datetime import datetime, timedelta\n",
    "import matplotlib.pyplot as plt\n",
    "import alpaca_trade_api as tradeapi\n",
    "%matplotlib inline"
   ]
  },
  {
   "cell_type": "code",
   "execution_count": 2,
   "metadata": {},
   "outputs": [],
   "source": [
    "#Seed function with 42 specifier produces an identical output\n",
    "np.random.seed(42)"
   ]
  },
  {
   "cell_type": "markdown",
   "metadata": {},
   "source": [
    "# Portfolio Planner\n",
    "\n",
    "In this activity, you will use the Alpaca api to grab historical data for a 60/40 portfolio using `SPY` to represent the stock portion and `AGG` to represent the bonds."
   ]
  },
  {
   "cell_type": "code",
   "execution_count": 3,
   "metadata": {},
   "outputs": [],
   "source": [
    "# Load .env enviroment variables\n",
    "from dotenv import load_dotenv\n",
    "load_dotenv()\n",
    "\n",
    "# Set Alpaca API key and secret\n",
    "alpaca_api_key = os.getenv(\"ALPACA_API_KEY\")\n",
    "alpaca_secret_key = os.getenv(\"ALPACA_SECRET_KEY\")\n",
    "\n",
    "# api = tradeapi.REST()\n",
    "api = tradeapi.REST(alpaca_api_key, alpaca_secret_key, api_version='v2')"
   ]
  },
  {
   "cell_type": "markdown",
   "metadata": {},
   "source": [
    "# Data Collection\n",
    "\n",
    "In this step, you will need to use the Alpaca api to fetch closing prices for the `SPY` and `AGG` tickers. Save the results as a pandas DataFrame"
   ]
  },
  {
   "cell_type": "code",
   "execution_count": 4,
   "metadata": {},
   "outputs": [],
   "source": [
    "# Get all Asstes\n",
    "assets = api.list_assets()\n",
    "\n",
    "# Keep only tradeable assets\n",
    "tradeable = [asset for asset in assets if asset.tradable ]\n",
    "#Check to see if API call is working\n",
    "#tradeable"
   ]
  },
  {
   "cell_type": "code",
   "execution_count": 5,
   "metadata": {},
   "outputs": [
    {
     "data": {
      "text/html": [
       "<div>\n",
       "<style scoped>\n",
       "    .dataframe tbody tr th:only-of-type {\n",
       "        vertical-align: middle;\n",
       "    }\n",
       "\n",
       "    .dataframe tbody tr th {\n",
       "        vertical-align: top;\n",
       "    }\n",
       "\n",
       "    .dataframe thead tr th {\n",
       "        text-align: left;\n",
       "    }\n",
       "\n",
       "    .dataframe thead tr:last-of-type th {\n",
       "        text-align: right;\n",
       "    }\n",
       "</style>\n",
       "<table border=\"1\" class=\"dataframe\">\n",
       "  <thead>\n",
       "    <tr>\n",
       "      <th></th>\n",
       "      <th colspan=\"5\" halign=\"left\">AGG</th>\n",
       "      <th colspan=\"5\" halign=\"left\">SPY</th>\n",
       "    </tr>\n",
       "    <tr>\n",
       "      <th></th>\n",
       "      <th>open</th>\n",
       "      <th>high</th>\n",
       "      <th>low</th>\n",
       "      <th>close</th>\n",
       "      <th>volume</th>\n",
       "      <th>open</th>\n",
       "      <th>high</th>\n",
       "      <th>low</th>\n",
       "      <th>close</th>\n",
       "      <th>volume</th>\n",
       "    </tr>\n",
       "    <tr>\n",
       "      <th>time</th>\n",
       "      <th></th>\n",
       "      <th></th>\n",
       "      <th></th>\n",
       "      <th></th>\n",
       "      <th></th>\n",
       "      <th></th>\n",
       "      <th></th>\n",
       "      <th></th>\n",
       "      <th></th>\n",
       "      <th></th>\n",
       "    </tr>\n",
       "  </thead>\n",
       "  <tbody>\n",
       "    <tr>\n",
       "      <th>2019-11-27 00:00:00-05:00</th>\n",
       "      <td>113.03</td>\n",
       "      <td>113.0700</td>\n",
       "      <td>112.96</td>\n",
       "      <td>112.995</td>\n",
       "      <td>1851568</td>\n",
       "      <td>314.61</td>\n",
       "      <td>315.47</td>\n",
       "      <td>314.37</td>\n",
       "      <td>315.46</td>\n",
       "      <td>35080036</td>\n",
       "    </tr>\n",
       "    <tr>\n",
       "      <th>2019-11-29 00:00:00-05:00</th>\n",
       "      <td>113.01</td>\n",
       "      <td>113.0200</td>\n",
       "      <td>112.85</td>\n",
       "      <td>112.925</td>\n",
       "      <td>2105467</td>\n",
       "      <td>314.86</td>\n",
       "      <td>315.13</td>\n",
       "      <td>314.06</td>\n",
       "      <td>314.27</td>\n",
       "      <td>24392905</td>\n",
       "    </tr>\n",
       "    <tr>\n",
       "      <th>2019-12-02 00:00:00-05:00</th>\n",
       "      <td>112.31</td>\n",
       "      <td>112.5100</td>\n",
       "      <td>112.29</td>\n",
       "      <td>112.480</td>\n",
       "      <td>5731792</td>\n",
       "      <td>314.59</td>\n",
       "      <td>314.66</td>\n",
       "      <td>311.17</td>\n",
       "      <td>311.60</td>\n",
       "      <td>62704749</td>\n",
       "    </tr>\n",
       "    <tr>\n",
       "      <th>2019-12-03 00:00:00-05:00</th>\n",
       "      <td>112.80</td>\n",
       "      <td>113.1277</td>\n",
       "      <td>112.76</td>\n",
       "      <td>113.020</td>\n",
       "      <td>3547417</td>\n",
       "      <td>308.65</td>\n",
       "      <td>309.64</td>\n",
       "      <td>307.13</td>\n",
       "      <td>309.47</td>\n",
       "      <td>62363983</td>\n",
       "    </tr>\n",
       "    <tr>\n",
       "      <th>2019-12-04 00:00:00-05:00</th>\n",
       "      <td>112.87</td>\n",
       "      <td>112.9500</td>\n",
       "      <td>112.68</td>\n",
       "      <td>112.800</td>\n",
       "      <td>3547118</td>\n",
       "      <td>310.70</td>\n",
       "      <td>312.12</td>\n",
       "      <td>310.32</td>\n",
       "      <td>311.47</td>\n",
       "      <td>37810887</td>\n",
       "    </tr>\n",
       "  </tbody>\n",
       "</table>\n",
       "</div>"
      ],
      "text/plain": [
       "                              AGG                                         SPY  \\\n",
       "                             open      high     low    close   volume    open   \n",
       "time                                                                            \n",
       "2019-11-27 00:00:00-05:00  113.03  113.0700  112.96  112.995  1851568  314.61   \n",
       "2019-11-29 00:00:00-05:00  113.01  113.0200  112.85  112.925  2105467  314.86   \n",
       "2019-12-02 00:00:00-05:00  112.31  112.5100  112.29  112.480  5731792  314.59   \n",
       "2019-12-03 00:00:00-05:00  112.80  113.1277  112.76  113.020  3547417  308.65   \n",
       "2019-12-04 00:00:00-05:00  112.87  112.9500  112.68  112.800  3547118  310.70   \n",
       "\n",
       "                                                             \n",
       "                             high     low   close    volume  \n",
       "time                                                         \n",
       "2019-11-27 00:00:00-05:00  315.47  314.37  315.46  35080036  \n",
       "2019-11-29 00:00:00-05:00  315.13  314.06  314.27  24392905  \n",
       "2019-12-02 00:00:00-05:00  314.66  311.17  311.60  62704749  \n",
       "2019-12-03 00:00:00-05:00  309.64  307.13  309.47  62363983  \n",
       "2019-12-04 00:00:00-05:00  312.12  310.32  311.47  37810887  "
      ]
     },
     "execution_count": 5,
     "metadata": {},
     "output_type": "execute_result"
    }
   ],
   "source": [
    "#Set the tickers\n",
    "tickers = [\"SPY\", \"AGG\"]\n",
    "\n",
    "# Set timeframe to '1D'\n",
    "timeframe = '1D'\n",
    "\n",
    "# Set start and end datetimes of 1 year, between now and 365 days ago.\n",
    "end_date = datetime.now()\n",
    "start_date = end_date + timedelta(-365)\n",
    "\n",
    "# Get 1 year's worth of historical data for AGG and SPY\n",
    "df = api.get_barset(\n",
    "    tickers,\n",
    "    timeframe,\n",
    "    limit=None,\n",
    "    start=start_date,\n",
    "    end=end_date,\n",
    "    after=None,\n",
    "    until=None,\n",
    ").df\n",
    "\n",
    "#Check to see if code worked\n",
    "df.head()"
   ]
  },
  {
   "cell_type": "markdown",
   "metadata": {},
   "source": [
    "# Monte Carlo Simulation\n",
    "\n",
    "In this step, you will run Monte Carlo Simulations for your portfolio to model portfolio performance at different retirement ages. \n",
    "\n",
    "Complete the following steps:\n",
    "1. Calculate the daily returns for the SPY and AGG closing prices.\n",
    "2. Calculate volatility for both the SPY and AGG closing prices.\n",
    "3. Find the last day's closing price for both stocks and save those as variables.\n",
    "4. Run a Monte Carlo Simulation of at least 500 iterations and generate at least 30 years of closing prices\n",
    "\n",
    "### HINTS:\n",
    "There are 252 trading days per year, so the number of records to generate for each Monte Carlo run will be 252 days * 30 years"
   ]
  },
  {
   "cell_type": "code",
   "execution_count": 6,
   "metadata": {},
   "outputs": [
    {
     "data": {
      "text/html": [
       "<div>\n",
       "<style scoped>\n",
       "    .dataframe tbody tr th:only-of-type {\n",
       "        vertical-align: middle;\n",
       "    }\n",
       "\n",
       "    .dataframe tbody tr th {\n",
       "        vertical-align: top;\n",
       "    }\n",
       "\n",
       "    .dataframe thead tr th {\n",
       "        text-align: left;\n",
       "    }\n",
       "\n",
       "    .dataframe thead tr:last-of-type th {\n",
       "        text-align: right;\n",
       "    }\n",
       "</style>\n",
       "<table border=\"1\" class=\"dataframe\">\n",
       "  <thead>\n",
       "    <tr>\n",
       "      <th></th>\n",
       "      <th>AGG</th>\n",
       "      <th>SPY</th>\n",
       "    </tr>\n",
       "    <tr>\n",
       "      <th></th>\n",
       "      <th>close</th>\n",
       "      <th>close</th>\n",
       "    </tr>\n",
       "    <tr>\n",
       "      <th>time</th>\n",
       "      <th></th>\n",
       "      <th></th>\n",
       "    </tr>\n",
       "  </thead>\n",
       "  <tbody>\n",
       "    <tr>\n",
       "      <th>2019-11-27 00:00:00-05:00</th>\n",
       "      <td>NaN</td>\n",
       "      <td>NaN</td>\n",
       "    </tr>\n",
       "    <tr>\n",
       "      <th>2019-11-29 00:00:00-05:00</th>\n",
       "      <td>-0.000619</td>\n",
       "      <td>-0.003772</td>\n",
       "    </tr>\n",
       "    <tr>\n",
       "      <th>2019-12-02 00:00:00-05:00</th>\n",
       "      <td>-0.003941</td>\n",
       "      <td>-0.008496</td>\n",
       "    </tr>\n",
       "    <tr>\n",
       "      <th>2019-12-03 00:00:00-05:00</th>\n",
       "      <td>0.004801</td>\n",
       "      <td>-0.006836</td>\n",
       "    </tr>\n",
       "    <tr>\n",
       "      <th>2019-12-04 00:00:00-05:00</th>\n",
       "      <td>-0.001947</td>\n",
       "      <td>0.006463</td>\n",
       "    </tr>\n",
       "  </tbody>\n",
       "</table>\n",
       "</div>"
      ],
      "text/plain": [
       "                                AGG       SPY\n",
       "                              close     close\n",
       "time                                         \n",
       "2019-11-27 00:00:00-05:00       NaN       NaN\n",
       "2019-11-29 00:00:00-05:00 -0.000619 -0.003772\n",
       "2019-12-02 00:00:00-05:00 -0.003941 -0.008496\n",
       "2019-12-03 00:00:00-05:00  0.004801 -0.006836\n",
       "2019-12-04 00:00:00-05:00 -0.001947  0.006463"
      ]
     },
     "execution_count": 6,
     "metadata": {},
     "output_type": "execute_result"
    }
   ],
   "source": [
    "## Calculate the daily roi for the stocks\n",
    "\n",
    "#Organize data\n",
    "\n",
    "# Use the `drop` function with the `level` parameter to drop extra columns in the multi-index DataFrame\n",
    "df.drop(columns=['open', 'high', 'low', 'volume'], level=1, inplace=True)\n",
    "#df.head()\n",
    "\n",
    "# Use the `pct_change` function to calculate daily returns of `AGG` and `SPY`.\n",
    "daily_returns = df.pct_change()\n",
    "daily_returns.head()"
   ]
  },
  {
   "cell_type": "code",
   "execution_count": 7,
   "metadata": {},
   "outputs": [],
   "source": [
    "## Calculate volatility\n",
    "\n",
    "# Use the `mean` function to calculate the mean of daily returns for `AGG` and `SPY`\n",
    "avg_daily_return_agg = daily_returns.mean()['AGG']['close']\n",
    "avg_daily_return_spy = daily_returns.mean()['SPY']['close']\n",
    "\n",
    "# Use the `std` function to calculate the standard deviation of daily returns for `AGG` and `SPY`\n",
    "std_dev_daily_return_agg = daily_returns.std()['AGG']['close']\n",
    "std_dev_daily_return_spy = daily_returns.std()['SPY']['close']"
   ]
  },
  {
   "cell_type": "code",
   "execution_count": 8,
   "metadata": {},
   "outputs": [],
   "source": [
    "## Save the last day's closing price\n",
    "agg_last_price=df['AGG']['close'][-1]\n",
    "spy_last_price=df['SPY']['close'][-1]"
   ]
  },
  {
   "cell_type": "code",
   "execution_count": 9,
   "metadata": {},
   "outputs": [],
   "source": [
    "## Setup the Monte Carlo Parameters\n",
    "number_simulations = 500\n",
    "number_records = 252*30\n",
    "#monte_carlo = pd.DataFrame()\n",
    "simulated_price_df = pd.DataFrame()\n",
    "portfolio_cumulative_returns = pd.DataFrame()"
   ]
  },
  {
   "cell_type": "code",
   "execution_count": 10,
   "metadata": {},
   "outputs": [
    {
     "data": {
      "text/html": [
       "<div>\n",
       "<style scoped>\n",
       "    .dataframe tbody tr th:only-of-type {\n",
       "        vertical-align: middle;\n",
       "    }\n",
       "\n",
       "    .dataframe tbody tr th {\n",
       "        vertical-align: top;\n",
       "    }\n",
       "\n",
       "    .dataframe thead th {\n",
       "        text-align: right;\n",
       "    }\n",
       "</style>\n",
       "<table border=\"1\" class=\"dataframe\">\n",
       "  <thead>\n",
       "    <tr style=\"text-align: right;\">\n",
       "      <th></th>\n",
       "      <th>0</th>\n",
       "      <th>1</th>\n",
       "      <th>2</th>\n",
       "      <th>3</th>\n",
       "      <th>4</th>\n",
       "      <th>5</th>\n",
       "      <th>6</th>\n",
       "      <th>7</th>\n",
       "      <th>8</th>\n",
       "      <th>9</th>\n",
       "      <th>...</th>\n",
       "      <th>490</th>\n",
       "      <th>491</th>\n",
       "      <th>492</th>\n",
       "      <th>493</th>\n",
       "      <th>494</th>\n",
       "      <th>495</th>\n",
       "      <th>496</th>\n",
       "      <th>497</th>\n",
       "      <th>498</th>\n",
       "      <th>499</th>\n",
       "    </tr>\n",
       "  </thead>\n",
       "  <tbody>\n",
       "    <tr>\n",
       "      <th>0</th>\n",
       "      <td>1.000000</td>\n",
       "      <td>1.000000</td>\n",
       "      <td>1.000000</td>\n",
       "      <td>1.000000</td>\n",
       "      <td>1.000000</td>\n",
       "      <td>1.000000</td>\n",
       "      <td>1.000000</td>\n",
       "      <td>1.000000</td>\n",
       "      <td>1.000000</td>\n",
       "      <td>1.000000</td>\n",
       "      <td>...</td>\n",
       "      <td>1.000000</td>\n",
       "      <td>1.000000</td>\n",
       "      <td>1.000000</td>\n",
       "      <td>1.000000</td>\n",
       "      <td>1.000000</td>\n",
       "      <td>1.000000</td>\n",
       "      <td>1.000000</td>\n",
       "      <td>1.000000</td>\n",
       "      <td>1.000000</td>\n",
       "      <td>1.000000</td>\n",
       "    </tr>\n",
       "    <tr>\n",
       "      <th>1</th>\n",
       "      <td>0.998834</td>\n",
       "      <td>0.998871</td>\n",
       "      <td>0.992053</td>\n",
       "      <td>1.017950</td>\n",
       "      <td>1.043116</td>\n",
       "      <td>0.975432</td>\n",
       "      <td>0.986429</td>\n",
       "      <td>1.048631</td>\n",
       "      <td>1.000340</td>\n",
       "      <td>0.978820</td>\n",
       "      <td>...</td>\n",
       "      <td>1.005026</td>\n",
       "      <td>0.968310</td>\n",
       "      <td>1.004134</td>\n",
       "      <td>1.007324</td>\n",
       "      <td>0.983058</td>\n",
       "      <td>1.009322</td>\n",
       "      <td>1.003185</td>\n",
       "      <td>1.023273</td>\n",
       "      <td>0.989850</td>\n",
       "      <td>0.976384</td>\n",
       "    </tr>\n",
       "    <tr>\n",
       "      <th>2</th>\n",
       "      <td>1.028620</td>\n",
       "      <td>1.012110</td>\n",
       "      <td>1.007502</td>\n",
       "      <td>0.980435</td>\n",
       "      <td>1.031014</td>\n",
       "      <td>0.971369</td>\n",
       "      <td>0.971486</td>\n",
       "      <td>1.020507</td>\n",
       "      <td>0.994704</td>\n",
       "      <td>0.967032</td>\n",
       "      <td>...</td>\n",
       "      <td>1.016426</td>\n",
       "      <td>0.972394</td>\n",
       "      <td>1.007042</td>\n",
       "      <td>1.018016</td>\n",
       "      <td>0.983899</td>\n",
       "      <td>0.961372</td>\n",
       "      <td>1.004462</td>\n",
       "      <td>1.014591</td>\n",
       "      <td>0.978898</td>\n",
       "      <td>0.989193</td>\n",
       "    </tr>\n",
       "    <tr>\n",
       "      <th>3</th>\n",
       "      <td>1.023056</td>\n",
       "      <td>1.007118</td>\n",
       "      <td>1.005184</td>\n",
       "      <td>0.983075</td>\n",
       "      <td>1.020542</td>\n",
       "      <td>0.943352</td>\n",
       "      <td>0.983896</td>\n",
       "      <td>0.994067</td>\n",
       "      <td>0.991630</td>\n",
       "      <td>0.995596</td>\n",
       "      <td>...</td>\n",
       "      <td>1.017269</td>\n",
       "      <td>0.946267</td>\n",
       "      <td>1.007189</td>\n",
       "      <td>1.032219</td>\n",
       "      <td>0.964571</td>\n",
       "      <td>0.968500</td>\n",
       "      <td>1.022996</td>\n",
       "      <td>0.986922</td>\n",
       "      <td>0.985615</td>\n",
       "      <td>1.003328</td>\n",
       "    </tr>\n",
       "    <tr>\n",
       "      <th>4</th>\n",
       "      <td>1.042624</td>\n",
       "      <td>1.013267</td>\n",
       "      <td>1.020428</td>\n",
       "      <td>0.997122</td>\n",
       "      <td>1.040797</td>\n",
       "      <td>0.952609</td>\n",
       "      <td>1.000101</td>\n",
       "      <td>0.968154</td>\n",
       "      <td>0.995815</td>\n",
       "      <td>1.010694</td>\n",
       "      <td>...</td>\n",
       "      <td>1.004011</td>\n",
       "      <td>0.957036</td>\n",
       "      <td>1.006397</td>\n",
       "      <td>1.004673</td>\n",
       "      <td>0.967626</td>\n",
       "      <td>0.962857</td>\n",
       "      <td>1.009558</td>\n",
       "      <td>0.995853</td>\n",
       "      <td>0.976167</td>\n",
       "      <td>1.003309</td>\n",
       "    </tr>\n",
       "    <tr>\n",
       "      <th>5</th>\n",
       "      <td>1.051005</td>\n",
       "      <td>0.983022</td>\n",
       "      <td>0.989575</td>\n",
       "      <td>1.046776</td>\n",
       "      <td>1.028467</td>\n",
       "      <td>0.944099</td>\n",
       "      <td>1.013929</td>\n",
       "      <td>0.971509</td>\n",
       "      <td>1.025770</td>\n",
       "      <td>0.988269</td>\n",
       "      <td>...</td>\n",
       "      <td>0.992008</td>\n",
       "      <td>0.964514</td>\n",
       "      <td>0.971430</td>\n",
       "      <td>0.999203</td>\n",
       "      <td>0.967136</td>\n",
       "      <td>0.942280</td>\n",
       "      <td>0.935525</td>\n",
       "      <td>1.005204</td>\n",
       "      <td>0.967986</td>\n",
       "      <td>0.992945</td>\n",
       "    </tr>\n",
       "    <tr>\n",
       "      <th>6</th>\n",
       "      <td>1.040037</td>\n",
       "      <td>0.960472</td>\n",
       "      <td>0.992051</td>\n",
       "      <td>1.043236</td>\n",
       "      <td>1.014564</td>\n",
       "      <td>0.961008</td>\n",
       "      <td>0.990868</td>\n",
       "      <td>0.977059</td>\n",
       "      <td>1.022143</td>\n",
       "      <td>0.976054</td>\n",
       "      <td>...</td>\n",
       "      <td>1.019113</td>\n",
       "      <td>0.976448</td>\n",
       "      <td>0.964704</td>\n",
       "      <td>1.009335</td>\n",
       "      <td>0.939707</td>\n",
       "      <td>0.934929</td>\n",
       "      <td>0.961575</td>\n",
       "      <td>0.981246</td>\n",
       "      <td>0.966946</td>\n",
       "      <td>1.010691</td>\n",
       "    </tr>\n",
       "    <tr>\n",
       "      <th>7</th>\n",
       "      <td>1.004060</td>\n",
       "      <td>0.958574</td>\n",
       "      <td>1.021275</td>\n",
       "      <td>1.073744</td>\n",
       "      <td>1.018335</td>\n",
       "      <td>0.968382</td>\n",
       "      <td>0.988052</td>\n",
       "      <td>0.960240</td>\n",
       "      <td>1.004264</td>\n",
       "      <td>0.986280</td>\n",
       "      <td>...</td>\n",
       "      <td>1.008346</td>\n",
       "      <td>0.990114</td>\n",
       "      <td>0.989805</td>\n",
       "      <td>1.015488</td>\n",
       "      <td>0.944589</td>\n",
       "      <td>0.936748</td>\n",
       "      <td>0.961796</td>\n",
       "      <td>1.001400</td>\n",
       "      <td>0.943662</td>\n",
       "      <td>1.033368</td>\n",
       "    </tr>\n",
       "    <tr>\n",
       "      <th>8</th>\n",
       "      <td>0.987499</td>\n",
       "      <td>0.990744</td>\n",
       "      <td>1.017691</td>\n",
       "      <td>1.093154</td>\n",
       "      <td>1.002794</td>\n",
       "      <td>0.974455</td>\n",
       "      <td>0.969434</td>\n",
       "      <td>0.966221</td>\n",
       "      <td>0.992689</td>\n",
       "      <td>0.996514</td>\n",
       "      <td>...</td>\n",
       "      <td>1.016374</td>\n",
       "      <td>0.994525</td>\n",
       "      <td>0.989315</td>\n",
       "      <td>1.015711</td>\n",
       "      <td>0.948139</td>\n",
       "      <td>0.941824</td>\n",
       "      <td>0.983577</td>\n",
       "      <td>1.010756</td>\n",
       "      <td>0.947616</td>\n",
       "      <td>1.024535</td>\n",
       "    </tr>\n",
       "    <tr>\n",
       "      <th>9</th>\n",
       "      <td>0.989478</td>\n",
       "      <td>1.002698</td>\n",
       "      <td>1.004302</td>\n",
       "      <td>1.076191</td>\n",
       "      <td>0.971663</td>\n",
       "      <td>0.946457</td>\n",
       "      <td>0.985159</td>\n",
       "      <td>0.968053</td>\n",
       "      <td>1.000690</td>\n",
       "      <td>0.993289</td>\n",
       "      <td>...</td>\n",
       "      <td>0.973505</td>\n",
       "      <td>1.009977</td>\n",
       "      <td>1.018885</td>\n",
       "      <td>1.012815</td>\n",
       "      <td>0.963182</td>\n",
       "      <td>0.948721</td>\n",
       "      <td>1.020225</td>\n",
       "      <td>1.013651</td>\n",
       "      <td>0.925559</td>\n",
       "      <td>1.023823</td>\n",
       "    </tr>\n",
       "  </tbody>\n",
       "</table>\n",
       "<p>10 rows × 500 columns</p>\n",
       "</div>"
      ],
      "text/plain": [
       "        0         1         2         3         4         5         6    \\\n",
       "0  1.000000  1.000000  1.000000  1.000000  1.000000  1.000000  1.000000   \n",
       "1  0.998834  0.998871  0.992053  1.017950  1.043116  0.975432  0.986429   \n",
       "2  1.028620  1.012110  1.007502  0.980435  1.031014  0.971369  0.971486   \n",
       "3  1.023056  1.007118  1.005184  0.983075  1.020542  0.943352  0.983896   \n",
       "4  1.042624  1.013267  1.020428  0.997122  1.040797  0.952609  1.000101   \n",
       "5  1.051005  0.983022  0.989575  1.046776  1.028467  0.944099  1.013929   \n",
       "6  1.040037  0.960472  0.992051  1.043236  1.014564  0.961008  0.990868   \n",
       "7  1.004060  0.958574  1.021275  1.073744  1.018335  0.968382  0.988052   \n",
       "8  0.987499  0.990744  1.017691  1.093154  1.002794  0.974455  0.969434   \n",
       "9  0.989478  1.002698  1.004302  1.076191  0.971663  0.946457  0.985159   \n",
       "\n",
       "        7         8         9    ...       490       491       492       493  \\\n",
       "0  1.000000  1.000000  1.000000  ...  1.000000  1.000000  1.000000  1.000000   \n",
       "1  1.048631  1.000340  0.978820  ...  1.005026  0.968310  1.004134  1.007324   \n",
       "2  1.020507  0.994704  0.967032  ...  1.016426  0.972394  1.007042  1.018016   \n",
       "3  0.994067  0.991630  0.995596  ...  1.017269  0.946267  1.007189  1.032219   \n",
       "4  0.968154  0.995815  1.010694  ...  1.004011  0.957036  1.006397  1.004673   \n",
       "5  0.971509  1.025770  0.988269  ...  0.992008  0.964514  0.971430  0.999203   \n",
       "6  0.977059  1.022143  0.976054  ...  1.019113  0.976448  0.964704  1.009335   \n",
       "7  0.960240  1.004264  0.986280  ...  1.008346  0.990114  0.989805  1.015488   \n",
       "8  0.966221  0.992689  0.996514  ...  1.016374  0.994525  0.989315  1.015711   \n",
       "9  0.968053  1.000690  0.993289  ...  0.973505  1.009977  1.018885  1.012815   \n",
       "\n",
       "        494       495       496       497       498       499  \n",
       "0  1.000000  1.000000  1.000000  1.000000  1.000000  1.000000  \n",
       "1  0.983058  1.009322  1.003185  1.023273  0.989850  0.976384  \n",
       "2  0.983899  0.961372  1.004462  1.014591  0.978898  0.989193  \n",
       "3  0.964571  0.968500  1.022996  0.986922  0.985615  1.003328  \n",
       "4  0.967626  0.962857  1.009558  0.995853  0.976167  1.003309  \n",
       "5  0.967136  0.942280  0.935525  1.005204  0.967986  0.992945  \n",
       "6  0.939707  0.934929  0.961575  0.981246  0.966946  1.010691  \n",
       "7  0.944589  0.936748  0.961796  1.001400  0.943662  1.033368  \n",
       "8  0.948139  0.941824  0.983577  1.010756  0.947616  1.024535  \n",
       "9  0.963182  0.948721  1.020225  1.013651  0.925559  1.023823  \n",
       "\n",
       "[10 rows x 500 columns]"
      ]
     },
     "execution_count": 10,
     "metadata": {},
     "output_type": "execute_result"
    }
   ],
   "source": [
    "## Run the Monte Carlo Simulation\n",
    "for x in range(number_simulations):\n",
    "    \n",
    "    # Initialize the simulated prices list with the last closing price of `AGG` and `SPY`\n",
    "    simulated_agg_prices = [agg_last_price]\n",
    "    simulated_spy_prices = [spy_last_price]\n",
    "    \n",
    "    # Simulate the returns for 252 * 30 \n",
    "    for i in range(number_records):\n",
    "        \n",
    "        # Calculate the simulated price using the last price within the list\n",
    "        #ASSUMPTION: .normal distribution\n",
    "        simulated_agg_price = simulated_agg_prices[-1] * (1 + np.random.normal(avg_daily_return_agg, std_dev_daily_return_agg))\n",
    "        simulated_spy_price = simulated_spy_prices[-1] * (1 + np.random.normal(avg_daily_return_spy, std_dev_daily_return_spy))\n",
    "        \n",
    "        # Append the simulated price to the list\n",
    "        simulated_agg_prices.append(simulated_agg_price)\n",
    "        simulated_spy_prices.append(simulated_spy_price)\n",
    "    \n",
    "    # Append a simulated prices of each simulation to DataFrame\n",
    "    simulated_price_df[\"AGG prices\"] = pd.Series(simulated_agg_prices)\n",
    "    simulated_price_df[\"SPY prices\"] = pd.Series(simulated_spy_prices)\n",
    "    \n",
    "    # Calculate the daily returns of simulated prices\n",
    "    simulated_daily_returns = simulated_price_df.pct_change()\n",
    "    \n",
    "    # Set the portfolio weights (60% Stocks:SPY; 40% Bonds:AGG)\n",
    "    weights = [0.40, 0.60]\n",
    "\n",
    "    # Use the `dot` function with the weights to multiply weights with each column's simulated daily returns\n",
    "    portfolio_daily_returns = simulated_daily_returns.dot(weights)\n",
    "    \n",
    "    # Calculate the normalized, cumulative return series\n",
    "    portfolio_cumulative_returns[x] = (1 + portfolio_daily_returns.fillna(0)).cumprod()\n",
    "\n",
    "# Print records from the DataFrame\n",
    "portfolio_cumulative_returns.head(10)"
   ]
  },
  {
   "cell_type": "code",
   "execution_count": 11,
   "metadata": {},
   "outputs": [
    {
     "data": {
      "text/plain": [
       "<matplotlib.axes._subplots.AxesSubplot at 0x168ea712f08>"
      ]
     },
     "execution_count": 11,
     "metadata": {},
     "output_type": "execute_result"
    },
    {
     "data": {
      "image/png": "[encoded data removed]",
      "text/plain": [
       "<Figure size 432x288 with 1 Axes>"
      ]
     },
     "metadata": {
      "needs_background": "light"
     },
     "output_type": "display_data"
    }
   ],
   "source": [
    "## Visualize the Simulation\n",
    "portfolio_cumulative_returns.plot(legend=None)"
   ]
  },
  {
   "cell_type": "code",
   "execution_count": 12,
   "metadata": {},
   "outputs": [
    {
     "data": {
      "text/plain": [
       "0    0.023375\n",
       "1    0.015189\n",
       "2    0.016984\n",
       "3    0.006230\n",
       "4    0.016600\n",
       "Name: 7560, dtype: float64"
      ]
     },
     "execution_count": 12,
     "metadata": {},
     "output_type": "execute_result"
    }
   ],
   "source": [
    "## Select the last row for the cumulative returns (cumulative returns at 30 years)\n",
    "ending_cumulative_returns = portfolio_cumulative_returns.iloc[-1, :]\n",
    "ending_cumulative_returns.head()"
   ]
  },
  {
   "cell_type": "code",
   "execution_count": 13,
   "metadata": {},
   "outputs": [
    {
     "data": {
      "text/plain": [
       "0    0.081107\n",
       "1    0.061616\n",
       "2    0.039395\n",
       "3    0.025651\n",
       "4    0.316048\n",
       "Name: 5041, dtype: float64"
      ]
     },
     "execution_count": 13,
     "metadata": {},
     "output_type": "execute_result"
    }
   ],
   "source": [
    "## Select the last row for the cumulative returns (cumulative returns at 20 years)\n",
    "ending_cumulative_return_20yrs = portfolio_cumulative_returns.iloc[-2520, :]\n",
    "ending_cumulative_return_20yrs.head()"
   ]
  },
  {
   "cell_type": "code",
   "execution_count": 14,
   "metadata": {},
   "outputs": [
    {
     "data": {
      "text/plain": [
       "0.05    0.001976\n",
       "0.95    0.324701\n",
       "Name: 7560, dtype: float64"
      ]
     },
     "execution_count": 14,
     "metadata": {},
     "output_type": "execute_result"
    }
   ],
   "source": [
    "## Display the 90% confidence interval for the ending returns\n",
    "confidence_interval = ending_cumulative_returns.quantile(q=[0.05, 0.95])\n",
    "confidence_interval"
   ]
  },
  {
   "cell_type": "code",
   "execution_count": 15,
   "metadata": {},
   "outputs": [
    {
     "data": {
      "text/plain": [
       "<matplotlib.lines.Line2D at 0x168ea678648>"
      ]
     },
     "execution_count": 15,
     "metadata": {},
     "output_type": "execute_result"
    },
    {
     "data": {
      "image/png": "[encoded data removed]",
      "text/plain": [
       "<Figure size 432x288 with 1 Axes>"
      ]
     },
     "metadata": {
      "needs_background": "light"
     },
     "output_type": "display_data"
    }
   ],
   "source": [
    "## Visualize the distribution of the ending returns\n",
    "plt.figure();\n",
    "ending_cumulative_returns.plot(kind='hist', density=True, bins=10)\n",
    "plt.axvline(confidence_interval.iloc[0], color='r')\n",
    "plt.axvline(confidence_interval.iloc[1], color='r')"
   ]
  },
  {
   "cell_type": "markdown",
   "metadata": {},
   "source": [
    "---"
   ]
  },
  {
   "cell_type": "markdown",
   "metadata": {},
   "source": [
    "# Retirement Analysis\n",
    "\n",
    "In this section, you will use the monte carlo model to answer the following retirement planning questions:\n",
    "\n",
    "1. What are the expected cumulative returns at 30 years for the 10th, 50th, and 90th percentiles?\n",
    "2. Given an initial investment of `$20,000`, what is the expected portfolio return in dollars at the 10th, 50th, and 90th percentiles?\n",
    "3. Given the current projected annual income from the Plaid analysis, will a 4% withdraw rate from the retirement portfolio meet or exceed that value at the 10th percentile?\n",
    "4. How would a 50% increase in the initial investment amount affect the 4% retirement withdrawal?"
   ]
  },
  {
   "cell_type": "markdown",
   "metadata": {},
   "source": [
    "### What are the expected cumulative returns at 30 years for the 10th, 50th, and 90th percentiles?"
   ]
  },
  {
   "cell_type": "code",
   "execution_count": 16,
   "metadata": {},
   "outputs": [
    {
     "data": {
      "text/plain": [
       "(0.1    0.003427\n",
       " Name: 7560, dtype: float64,\n",
       " 0.5    0.026093\n",
       " Name: 7560, dtype: float64,\n",
       " 0.9    0.167364\n",
       " Name: 7560, dtype: float64)"
      ]
     },
     "execution_count": 16,
     "metadata": {},
     "output_type": "execute_result"
    }
   ],
   "source": [
    "# 10th percentile\n",
    "ending_cumulative_returns_10 = ending_cumulative_returns.quantile(q=[.1])\n",
    "\n",
    "#50th percentile\n",
    "ending_cumulative_returns_50 = ending_cumulative_returns.quantile(q=[.5])\n",
    "\n",
    "#90th percentile\n",
    "ending_cumulative_returns_90 = ending_cumulative_returns.quantile(q=[.9])\n",
    "\n",
    "#Print results\n",
    "ending_cumulative_returns_10, ending_cumulative_returns_50, ending_cumulative_returns_90\n"
   ]
  },
  {
   "cell_type": "markdown",
   "metadata": {},
   "source": [
    "### Given an initial investment of `$20,000`, what is the expected portfolio return in dollars at the 10th, 50th, and 90th percentiles?"
   ]
  },
  {
   "cell_type": "code",
   "execution_count": 17,
   "metadata": {},
   "outputs": [
    {
     "name": "stdout",
     "output_type": "stream",
     "text": [
      "At the 10th percentile, an initial investment of $20,000 in the portfolio over the next 30 years will be $68.53434307489931At the 50th percentile, an initial investment of $20,000 in the portfolio over the next 30 years will be $521.8684716455153At the 90th percentile, an initial investment of $20,000 in the portfolio over the next 30 years will be $3347.273494666596\n"
     ]
    }
   ],
   "source": [
    "# Set initial investment\n",
    "initial_investment = 20000\n",
    "\n",
    "# Calculate investment profit/loss of lower and upper bound cumulative portfolio returns\n",
    "investment_pnl_10 = initial_investment * ending_cumulative_returns_10.iloc[0]\n",
    "investment_pnl_50 = initial_investment * ending_cumulative_returns_50.iloc[0]\n",
    "investment_pnl_90 = initial_investment * ending_cumulative_returns_90.iloc[0]\n",
    "\n",
    "# Print the results\n",
    "print(f\"At the 10th percentile, an initial investment of $20,000 in the portfolio \"\n",
    "      f\"over the next 30 years will be\"\n",
    "      f\" ${investment_pnl_10}\"\n",
    "      \n",
    "      f\"At the 50th percentile, an initial investment of $20,000 in the portfolio \"\n",
    "      f\"over the next 30 years will be\"\n",
    "      f\" ${investment_pnl_50}\"\n",
    "      \n",
    "      f\"At the 90th percentile, an initial investment of $20,000 in the portfolio \"\n",
    "      f\"over the next 30 years will be\"\n",
    "      f\" ${investment_pnl_90}\")\n",
    "#######BUG: I think the decimal is off"
   ]
  },
  {
   "cell_type": "markdown",
   "metadata": {},
   "source": [
    "### Given the current projected annual income from the Plaid analysis, will a 4% withdraw rate from the retirement portfolio meet or exceed that value at the 10th percentile?\n",
    "\n",
    "Note: This is effectively saying that 90% of the expected returns will be greater than the return at the 10th percentile, so this can help measure the uncertainty about having enough funds at retirement"
   ]
  },
  {
   "cell_type": "markdown",
   "metadata": {},
   "source": [
    "**4% Withdraw Rate Analysis**\n",
    "At the 10th percentile of your investable portfolio, you can anticipate having 68.53 after 30 years and your projected yearly income is $6,085. If your goal is to withdraw 4% yearly, you will not have enough to replace your income."
   ]
  },
  {
   "cell_type": "markdown",
   "metadata": {},
   "source": [
    "### How would a 50% increase in the initial investment amount affect the 4% retirement withdrawal?"
   ]
  },
  {
   "cell_type": "code",
   "execution_count": 18,
   "metadata": {},
   "outputs": [
    {
     "name": "stdout",
     "output_type": "stream",
     "text": [
      "At the 10th percentile, an initial investment of $20,000 in the portfolio over the next 30 years will be $102.80151461234897\n"
     ]
    }
   ],
   "source": [
    "#Rerun Monte Carlo with 30,000 initial investment\n",
    "\n",
    "# Set initial investment\n",
    "initial_investment_2 = 30000\n",
    "# Calculate investment profit/loss of lower and upper bound cumulative portfolio returns\n",
    "investment_pnl_10_2 = initial_investment_2 * ending_cumulative_returns_10.iloc[0]\n",
    "# Print the results\n",
    "print(f\"At the 10th percentile, an initial investment of $20,000 in the portfolio \"\n",
    "      f\"over the next 30 years will be\"\n",
    "      f\" ${investment_pnl_10_2}\")"
   ]
  },
  {
   "cell_type": "markdown",
   "metadata": {},
   "source": [
    "**New Monte Carlo Analysis**\n",
    "A 50 percent increase in your initial investment would have no material affect on your ability to live."
   ]
  },
  {
   "cell_type": "markdown",
   "metadata": {},
   "source": [
    "### Optional Challenge\n",
    "\n",
    "In this section, you will calculate and plot the cumulative returns for the median and 90% confidence intervals. This plot shows the expected cumulative returns for any given day between the first day and the last day of investment. "
   ]
  },
  {
   "cell_type": "code",
   "execution_count": null,
   "metadata": {},
   "outputs": [],
   "source": [
    "# YOUR CODE HERE"
   ]
  }
 ],
 "metadata": {
  "kernel_info": {
   "name": "dev"
  },
  "kernelspec": {
   "display_name": "Python 3",
   "language": "python",
   "name": "python3"
  },
  "language_info": {
   "codemirror_mode": {
    "name": "ipython",
    "version": 3
   },
   "file_extension": ".py",
   "mimetype": "text/x-python",
   "name": "python",
   "nbconvert_exporter": "python",
   "pygments_lexer": "ipython3",
   "version": "3.7.4"
  },
  "nteract": {
   "version": "0.12.3"
  }
 },
 "nbformat": 4,
 "nbformat_minor": 4
}
